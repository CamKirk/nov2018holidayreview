{
 "cells": [
  {
   "cell_type": "code",
   "execution_count": 1,
   "metadata": {},
   "outputs": [],
   "source": [
    "import requests\n",
    "import pandas as pd\n",
    "from pprint import pprint\n",
    "import time\n",
    "import pplapicalcs as ppl"
   ]
  },
  {
   "cell_type": "code",
   "execution_count": 27,
   "metadata": {},
   "outputs": [],
   "source": [
    "res = requests.get(\"http://pplapi.com/batch/5/country/us/sample.json\").json()"
   ]
  },
  {
   "cell_type": "code",
   "execution_count": 28,
   "metadata": {},
   "outputs": [
    {
     "name": "stdout",
     "output_type": "stream",
     "text": [
      "[{'age': 8,\n",
      "  'agreeableness': 1.212748169692916,\n",
      "  'conscientiousness': 1.0401268683923575,\n",
      "  'country_name': 'United States',\n",
      "  'country_tld': 'us',\n",
      "  'date_of_birth': '2010-07-01',\n",
      "  'extraversion': -0.6760729342680676,\n",
      "  'id': 2605192506,\n",
      "  'id_str': 'LJF-51w',\n",
      "  'income': 39144,\n",
      "  'internet': True,\n",
      "  'language': 'English',\n",
      "  'latitude': 38.30929823999981,\n",
      "  'longitude': -90.40299519198167,\n",
      "  'neuroticism': -0.05057027951996035,\n",
      "  'openness': 1.2069077737753149,\n",
      "  'religion': 'Protestant',\n",
      "  'sex': 'Male'},\n",
      " {'age': 66,\n",
      "  'agreeableness': 1.0275384978066826,\n",
      "  'conscientiousness': -0.24738974818284878,\n",
      "  'country_name': 'United States',\n",
      "  'country_tld': 'us',\n",
      "  'date_of_birth': '1952-04-10',\n",
      "  'extraversion': -0.9491337689072238,\n",
      "  'id': 2751514416,\n",
      "  'id_str': 'zEK-Tt',\n",
      "  'income': 64829,\n",
      "  'internet': True,\n",
      "  'language': 'European',\n",
      "  'latitude': 34.79545162493876,\n",
      "  'longitude': -102.11809049643868,\n",
      "  'neuroticism': 1.2922062861873462,\n",
      "  'openness': -0.21846108887077045,\n",
      "  'religion': 'Roman Catholic',\n",
      "  'sex': 'Male'},\n",
      " {'age': 40,\n",
      "  'agreeableness': -0.2694576087920547,\n",
      "  'conscientiousness': -0.6825621271788419,\n",
      "  'country_name': 'United States',\n",
      "  'country_tld': 'us',\n",
      "  'date_of_birth': '1978-07-07',\n",
      "  'extraversion': -1.5380905636304276,\n",
      "  'id': 2818905490,\n",
      "  'id_str': 'DRQ-RQY',\n",
      "  'income': 55123,\n",
      "  'internet': False,\n",
      "  'language': 'Spanish',\n",
      "  'latitude': 39.20789946414839,\n",
      "  'longitude': -88.96500894207904,\n",
      "  'neuroticism': 0.6443768796462102,\n",
      "  'openness': -0.0999982084351106,\n",
      "  'religion': 'Protestant',\n",
      "  'sex': 'Female'},\n",
      " {'age': 32,\n",
      "  'agreeableness': -0.6686815215121068,\n",
      "  'conscientiousness': -0.7471905908242602,\n",
      "  'country_name': 'United States',\n",
      "  'country_tld': 'us',\n",
      "  'date_of_birth': '1986-05-06',\n",
      "  'extraversion': -0.31112434701532743,\n",
      "  'id': 2610292460,\n",
      "  'id_str': 'DyG-a6h',\n",
      "  'income': 34343,\n",
      "  'internet': True,\n",
      "  'language': 'English',\n",
      "  'latitude': 42.12613036858786,\n",
      "  'longitude': -103.73743532699822,\n",
      "  'neuroticism': 2.1767348273417753,\n",
      "  'openness': 0.031102425096555284,\n",
      "  'religion': 'Protestant',\n",
      "  'sex': 'Male'},\n",
      " {'age': 47,\n",
      "  'agreeableness': -0.4386021955925056,\n",
      "  'conscientiousness': -0.9058348320570794,\n",
      "  'country_name': 'United States',\n",
      "  'country_tld': 'us',\n",
      "  'date_of_birth': '1971-08-30',\n",
      "  'extraversion': -0.8093660275386926,\n",
      "  'id': 2809341749,\n",
      "  'id_str': '9vn-77S',\n",
      "  'income': 49579,\n",
      "  'internet': False,\n",
      "  'language': 'English',\n",
      "  'latitude': 33.36000874914534,\n",
      "  'longitude': -90.21094159436291,\n",
      "  'neuroticism': 0.49904585758225745,\n",
      "  'openness': 0.5602620960223392,\n",
      "  'religion': 'none',\n",
      "  'sex': 'Male'}]\n"
     ]
    }
   ],
   "source": [
    "pprint(res)"
   ]
  },
  {
   "cell_type": "code",
   "execution_count": null,
   "metadata": {},
   "outputs": [],
   "source": [
    "df = pd.DataFrame(res)\n",
    "df"
   ]
  },
  {
   "cell_type": "code",
   "execution_count": 11,
   "metadata": {},
   "outputs": [
    {
     "data": {
      "text/plain": [
       "0    Protestant\n",
       "dtype: object"
      ]
     },
     "execution_count": 11,
     "metadata": {},
     "output_type": "execute_result"
    }
   ],
   "source": [
    "df[\"religion\"].mode()"
   ]
  },
  {
   "cell_type": "code",
   "execution_count": 13,
   "metadata": {},
   "outputs": [
    {
     "data": {
      "text/plain": [
       "0.3195419124390729"
      ]
     },
     "execution_count": 13,
     "metadata": {},
     "output_type": "execute_result"
    }
   ],
   "source": [
    "df[\"agreeableness\"].mean()"
   ]
  },
  {
   "cell_type": "code",
   "execution_count": 14,
   "metadata": {},
   "outputs": [
    {
     "data": {
      "text/plain": [
       "2.1770679245595042"
      ]
     },
     "execution_count": 14,
     "metadata": {},
     "output_type": "execute_result"
    }
   ],
   "source": [
    "df[\"neuroticism\"].max()- df[\"neuroticism\"].min()"
   ]
  },
  {
   "cell_type": "code",
   "execution_count": 63,
   "metadata": {},
   "outputs": [],
   "source": [
    "def randsample():\n",
    "    \"\"\"\n",
    "        makes a request to the pplapi, calculates mode, mean, and range of some of\n",
    "        the response information.\n",
    "    \"\"\"\n",
    "    \n",
    "    res=requests.get(\"http://pplapi.com/batch/5/country/us/sample.json\")\n",
    "    resjson = res.json()\n",
    "    \n",
    "    if res.status_code != 200:\n",
    "        raise requests.exceptions.HTTPError(\"too many requests too fast!\")\n",
    "        \n",
    "    stats = calc_stats(resjson)\n",
    "    \n",
    "    return [stats,resjson]"
   ]
  },
  {
   "cell_type": "code",
   "execution_count": 43,
   "metadata": {},
   "outputs": [
    {
     "name": "stdout",
     "output_type": "stream",
     "text": [
      "[0    Protestant\n",
      "dtype: object,\n",
      " -0.712238333090651,\n",
      " 2.4921789737150677,\n",
      " [{'age': 60,\n",
      "   'agreeableness': -0.3819369832200237,\n",
      "   'conscientiousness': -0.5659180821833147,\n",
      "   'country_name': 'United States',\n",
      "   'country_tld': 'us',\n",
      "   'date_of_birth': '1958-10-01',\n",
      "   'extraversion': -0.4365839849104546,\n",
      "   'id': 2715631178,\n",
      "   'id_str': 'LyM-IWs',\n",
      "   'income': 56129,\n",
      "   'internet': False,\n",
      "   'language': 'Spanish',\n",
      "   'latitude': 41.364626512125554,\n",
      "   'longitude': -101.95460728504888,\n",
      "   'neuroticism': 0.002590106394178347,\n",
      "   'openness': 2.167813523968323,\n",
      "   'religion': 'none',\n",
      "   'sex': 'Female'},\n",
      "  {'age': 10,\n",
      "   'agreeableness': -0.3855803918259208,\n",
      "   'conscientiousness': 0.714809869145161,\n",
      "   'country_name': 'United States',\n",
      "   'country_tld': 'us',\n",
      "   'date_of_birth': '2008-04-28',\n",
      "   'extraversion': 0.08036035938328201,\n",
      "   'id': 2634047231,\n",
      "   'id_str': 'Nci-ZaI',\n",
      "   'income': 81306,\n",
      "   'internet': True,\n",
      "   'language': 'English',\n",
      "   'latitude': 37.26326051269885,\n",
      "   'longitude': -100.0746232569447,\n",
      "   'neuroticism': -1.2243799375217235,\n",
      "   'openness': -1.2131680311461723,\n",
      "   'religion': 'Protestant',\n",
      "   'sex': 'Male'},\n",
      "  {'age': 42,\n",
      "   'agreeableness': -0.3330061056526106,\n",
      "   'conscientiousness': 0.6615319923817786,\n",
      "   'country_name': 'United States',\n",
      "   'country_tld': 'us',\n",
      "   'date_of_birth': '1976-04-02',\n",
      "   'extraversion': 0.41728609188985055,\n",
      "   'id': 2827560535,\n",
      "   'id_str': 'iTE-Ut7',\n",
      "   'income': 24475,\n",
      "   'internet': True,\n",
      "   'language': 'Spanish',\n",
      "   'latitude': 39.39239885847918,\n",
      "   'longitude': -107.08748843071012,\n",
      "   'neuroticism': 0.6935259002610955,\n",
      "   'openness': 0.37127412865149506,\n",
      "   'religion': 'Protestant',\n",
      "   'sex': 'Female'},\n",
      "  {'age': 23,\n",
      "   'agreeableness': -1.4930426569871091,\n",
      "   'conscientiousness': 0.811191663941998,\n",
      "   'country_name': 'United States',\n",
      "   'country_tld': 'us',\n",
      "   'date_of_birth': '1995-09-12',\n",
      "   'extraversion': -0.014757521336391695,\n",
      "   'id': 2798168335,\n",
      "   'id_str': 'isM-RKS',\n",
      "   'income': 43738,\n",
      "   'internet': True,\n",
      "   'language': 'English',\n",
      "   'latitude': 41.35106321993986,\n",
      "   'longitude': -87.68862337284152,\n",
      "   'neuroticism': 0.9855965263707219,\n",
      "   'openness': 0.6406569642952983,\n",
      "   'religion': 'Roman Catholic',\n",
      "   'sex': 'Male'},\n",
      "  {'age': 6,\n",
      "   'agreeableness': -0.9676255277675907,\n",
      "   'conscientiousness': -0.23296427798742525,\n",
      "   'country_name': 'United States',\n",
      "   'country_tld': 'us',\n",
      "   'date_of_birth': '2012-07-02',\n",
      "   'extraversion': 0.1716828499581153,\n",
      "   'id': 2673451692,\n",
      "   'id_str': 'y33-5JD',\n",
      "   'income': 32346,\n",
      "   'internet': True,\n",
      "   'language': 'English',\n",
      "   'latitude': 39.913287506271566,\n",
      "   'longitude': -100.38403188137427,\n",
      "   'neuroticism': 1.267799036193344,\n",
      "   'openness': -0.02662134927317007,\n",
      "   'religion': 'Protestant',\n",
      "   'sex': 'Male'}]]\n"
     ]
    }
   ],
   "source": [
    "pprint(randsample())"
   ]
  },
  {
   "cell_type": "code",
   "execution_count": 44,
   "metadata": {},
   "outputs": [],
   "source": [
    "example1 = [1,2,3]"
   ]
  },
  {
   "cell_type": "code",
   "execution_count": 45,
   "metadata": {},
   "outputs": [],
   "source": [
    "example2 = [3,4,5]"
   ]
  },
  {
   "cell_type": "code",
   "execution_count": 46,
   "metadata": {},
   "outputs": [
    {
     "data": {
      "text/plain": [
       "[1, 2, 3, 3, 4, 5]"
      ]
     },
     "execution_count": 46,
     "metadata": {},
     "output_type": "execute_result"
    }
   ],
   "source": [
    "example1+example2"
   ]
  },
  {
   "cell_type": "code",
   "execution_count": 47,
   "metadata": {},
   "outputs": [],
   "source": [
    "example1.append(example2)"
   ]
  },
  {
   "cell_type": "code",
   "execution_count": 48,
   "metadata": {},
   "outputs": [
    {
     "data": {
      "text/plain": [
       "[1, 2, 3, [3, 4, 5]]"
      ]
     },
     "execution_count": 48,
     "metadata": {},
     "output_type": "execute_result"
    }
   ],
   "source": [
    "example1"
   ]
  },
  {
   "cell_type": "code",
   "execution_count": 2,
   "metadata": {},
   "outputs": [
    {
     "name": "stdout",
     "output_type": "stream",
     "text": [
      "[{'neuroticism': 0.46722059591728043, 'language': 'English', 'latitude': 37.918224938610244, 'country_tld': 'us', 'age': 8, 'income': 38095, 'longitude': -104.86531217718309, 'sex': 'Male', 'religion': 'Protestant', 'extraversion': -0.4829919593599839, 'date_of_birth': '2010-03-31', 'agreeableness': 0.3863460335979205, 'id_str': 'Lwa-0Cp', 'conscientiousness': 0.03950492195361863, 'internet': False, 'country_name': 'United States', 'openness': 1.92708058751201, 'id': 2878156394}, {'neuroticism': -0.3326506326344253, 'language': 'English', 'latitude': 38.471199203801106, 'country_tld': 'us', 'age': 85, 'income': 98568, 'longitude': -98.13083424132076, 'sex': 'Female', 'religion': 'Protestant', 'extraversion': 0.16145363355587297, 'date_of_birth': '1933-07-21', 'agreeableness': 0.8961607189031975, 'id_str': 'Ei1-k8', 'conscientiousness': 0.20910878267886313, 'internet': True, 'country_name': 'United States', 'openness': -0.1010947654521815, 'id': 2883401056}, {'neuroticism': -0.4517754631381437, 'language': 'English', 'latitude': 36.366658704643, 'country_tld': 'us', 'age': 1, 'income': 62362, 'longitude': -102.96719460024876, 'sex': 'Male', 'religion': 'Protestant', 'extraversion': -0.4472208986543085, 'date_of_birth': '2017-05-03', 'agreeableness': 0.4275766465876895, 'id_str': 'b0u-n09', 'conscientiousness': -0.9362575423529736, 'internet': True, 'country_name': 'United States', 'openness': -2.3763661553871334, 'id': 2714577417}, {'neuroticism': -0.42480452232480614, 'language': 'English', 'latitude': 38.55783186672214, 'country_tld': 'us', 'age': 18, 'income': 78294, 'longitude': -98.38350117261042, 'sex': 'Male', 'religion': 'Protestant', 'extraversion': -0.6386563325359697, 'date_of_birth': '2000-11-28', 'agreeableness': -0.7396872134346902, 'id_str': 'DUe-Nwl', 'conscientiousness': -0.05761638147882279, 'internet': False, 'country_name': 'United States', 'openness': 0.2628431479361513, 'id': 2732208546}, {'neuroticism': -0.647131309847772, 'language': 'English', 'latitude': 38.17337159153556, 'country_tld': 'us', 'age': 56, 'income': 52955, 'longitude': -100.8789603352777, 'sex': 'Female', 'religion': 'Protestant', 'extraversion': -1.387751912883154, 'date_of_birth': '1962-03-03', 'agreeableness': 0.35762283872687417, 'id_str': 'D2c-61I', 'conscientiousness': -0.35260561392313267, 'internet': True, 'country_name': 'United States', 'openness': -1.1613417065981384, 'id': 2774866844}]\n",
      "[{'neuroticism': 0.46722059591728043, 'language': 'English', 'latitude': 37.918224938610244, 'country_tld': 'us', 'age': 8, 'income': 38095, 'longitude': -104.86531217718309, 'sex': 'Male', 'religion': 'Protestant', 'extraversion': -0.4829919593599839, 'date_of_birth': '2010-03-31', 'agreeableness': 0.3863460335979205, 'id_str': 'Lwa-0Cp', 'conscientiousness': 0.03950492195361863, 'internet': False, 'country_name': 'United States', 'openness': 1.92708058751201, 'id': 2878156394}, {'neuroticism': -0.3326506326344253, 'language': 'English', 'latitude': 38.471199203801106, 'country_tld': 'us', 'age': 85, 'income': 98568, 'longitude': -98.13083424132076, 'sex': 'Female', 'religion': 'Protestant', 'extraversion': 0.16145363355587297, 'date_of_birth': '1933-07-21', 'agreeableness': 0.8961607189031975, 'id_str': 'Ei1-k8', 'conscientiousness': 0.20910878267886313, 'internet': True, 'country_name': 'United States', 'openness': -0.1010947654521815, 'id': 2883401056}, {'neuroticism': -0.4517754631381437, 'language': 'English', 'latitude': 36.366658704643, 'country_tld': 'us', 'age': 1, 'income': 62362, 'longitude': -102.96719460024876, 'sex': 'Male', 'religion': 'Protestant', 'extraversion': -0.4472208986543085, 'date_of_birth': '2017-05-03', 'agreeableness': 0.4275766465876895, 'id_str': 'b0u-n09', 'conscientiousness': -0.9362575423529736, 'internet': True, 'country_name': 'United States', 'openness': -2.3763661553871334, 'id': 2714577417}, {'neuroticism': -0.42480452232480614, 'language': 'English', 'latitude': 38.55783186672214, 'country_tld': 'us', 'age': 18, 'income': 78294, 'longitude': -98.38350117261042, 'sex': 'Male', 'religion': 'Protestant', 'extraversion': -0.6386563325359697, 'date_of_birth': '2000-11-28', 'agreeableness': -0.7396872134346902, 'id_str': 'DUe-Nwl', 'conscientiousness': -0.05761638147882279, 'internet': False, 'country_name': 'United States', 'openness': 0.2628431479361513, 'id': 2732208546}, {'neuroticism': -0.647131309847772, 'language': 'English', 'latitude': 38.17337159153556, 'country_tld': 'us', 'age': 56, 'income': 52955, 'longitude': -100.8789603352777, 'sex': 'Female', 'religion': 'Protestant', 'extraversion': -1.387751912883154, 'date_of_birth': '1962-03-03', 'agreeableness': 0.35762283872687417, 'id_str': 'D2c-61I', 'conscientiousness': -0.35260561392313267, 'internet': True, 'country_name': 'United States', 'openness': -1.1613417065981384, 'id': 2774866844}]\n",
      "[{'neuroticism': -0.22552609941184631, 'language': 'English', 'latitude': 40.362235575636454, 'country_tld': 'us', 'age': 96, 'income': 64387, 'longitude': -96.62167287740289, 'sex': 'Female', 'religion': 'Roman Catholic', 'extraversion': -0.42674749303421833, 'date_of_birth': '1922-05-17', 'agreeableness': 1.17330906349171, 'id_str': '9eg-TMV', 'conscientiousness': 0.3983471408157754, 'internet': True, 'country_name': 'United States', 'openness': 0.6085620592479078, 'id': 2904079037}, {'neuroticism': -0.4311734826718784, 'language': 'English', 'latitude': 35.8226366564752, 'country_tld': 'us', 'age': 36, 'income': 50230, 'longitude': -90.55395034934112, 'sex': 'Male', 'religion': 'Protestant', 'extraversion': 0.6767314982441908, 'date_of_birth': '1982-07-07', 'agreeableness': 0.29596434016006135, 'id_str': '9k7-nQd', 'conscientiousness': -1.8130813501611829, 'internet': True, 'country_name': 'United States', 'openness': -1.5219439535272987, 'id': 2804371349}, {'neuroticism': 0.6642333020317484, 'language': 'English', 'latitude': 39.29055099458212, 'country_tld': 'us', 'age': 33, 'income': 75452, 'longitude': -95.52822526411887, 'sex': 'Female', 'religion': 'Protestant', 'extraversion': -0.16619015434495302, 'date_of_birth': '1985-03-17', 'agreeableness': 0.8739941857043159, 'id_str': '9p8-xjY', 'conscientiousness': -0.8501508133358947, 'internet': False, 'country_name': 'United States', 'openness': 0.6400324499590986, 'id': 2804609773}, {'neuroticism': 0.9332689960105816, 'language': 'English', 'latitude': 36.87496239225929, 'country_tld': 'us', 'age': 27, 'income': 71224, 'longitude': -95.34938784684196, 'sex': 'Male', 'religion': 'Protestant', 'extraversion': -0.3666829281676549, 'date_of_birth': '1991-01-22', 'agreeableness': -0.6509590555274236, 'id_str': 'Nx6-FNl', 'conscientiousness': -1.1392541297318504, 'internet': True, 'country_name': 'United States', 'openness': 1.777415001593382, 'id': 2812974335}, {'neuroticism': -0.0010478717567319468, 'language': 'English', 'latitude': 39.85926293166406, 'country_tld': 'us', 'age': 95, 'income': 52165, 'longitude': -96.1126639460376, 'sex': 'Female', 'religion': 'Jewish', 'extraversion': -0.40149847256403126, 'date_of_birth': '1923-03-07', 'agreeableness': -0.09780826139436301, 'id_str': '9j2-ptf', 'conscientiousness': -1.1804826881031734, 'internet': True, 'country_name': 'United States', 'openness': 0.3089521647331241, 'id': 2718394229}]\n",
      "[{'neuroticism': 0.46722059591728043, 'language': 'English', 'latitude': 37.918224938610244, 'country_tld': 'us', 'age': 8, 'income': 38095, 'longitude': -104.86531217718309, 'sex': 'Male', 'religion': 'Protestant', 'extraversion': -0.4829919593599839, 'date_of_birth': '2010-03-31', 'agreeableness': 0.3863460335979205, 'id_str': 'Lwa-0Cp', 'conscientiousness': 0.03950492195361863, 'internet': False, 'country_name': 'United States', 'openness': 1.92708058751201, 'id': 2878156394}, {'neuroticism': -0.3326506326344253, 'language': 'English', 'latitude': 38.471199203801106, 'country_tld': 'us', 'age': 85, 'income': 98568, 'longitude': -98.13083424132076, 'sex': 'Female', 'religion': 'Protestant', 'extraversion': 0.16145363355587297, 'date_of_birth': '1933-07-21', 'agreeableness': 0.8961607189031975, 'id_str': 'Ei1-k8', 'conscientiousness': 0.20910878267886313, 'internet': True, 'country_name': 'United States', 'openness': -0.1010947654521815, 'id': 2883401056}, {'neuroticism': -0.4517754631381437, 'language': 'English', 'latitude': 36.366658704643, 'country_tld': 'us', 'age': 1, 'income': 62362, 'longitude': -102.96719460024876, 'sex': 'Male', 'religion': 'Protestant', 'extraversion': -0.4472208986543085, 'date_of_birth': '2017-05-03', 'agreeableness': 0.4275766465876895, 'id_str': 'b0u-n09', 'conscientiousness': -0.9362575423529736, 'internet': True, 'country_name': 'United States', 'openness': -2.3763661553871334, 'id': 2714577417}, {'neuroticism': -0.42480452232480614, 'language': 'English', 'latitude': 38.55783186672214, 'country_tld': 'us', 'age': 18, 'income': 78294, 'longitude': -98.38350117261042, 'sex': 'Male', 'religion': 'Protestant', 'extraversion': -0.6386563325359697, 'date_of_birth': '2000-11-28', 'agreeableness': -0.7396872134346902, 'id_str': 'DUe-Nwl', 'conscientiousness': -0.05761638147882279, 'internet': False, 'country_name': 'United States', 'openness': 0.2628431479361513, 'id': 2732208546}, {'neuroticism': -0.647131309847772, 'language': 'English', 'latitude': 38.17337159153556, 'country_tld': 'us', 'age': 56, 'income': 52955, 'longitude': -100.8789603352777, 'sex': 'Female', 'religion': 'Protestant', 'extraversion': -1.387751912883154, 'date_of_birth': '1962-03-03', 'agreeableness': 0.35762283872687417, 'id_str': 'D2c-61I', 'conscientiousness': -0.35260561392313267, 'internet': True, 'country_name': 'United States', 'openness': -1.1613417065981384, 'id': 2774866844}, {'neuroticism': -0.22552609941184631, 'language': 'English', 'latitude': 40.362235575636454, 'country_tld': 'us', 'age': 96, 'income': 64387, 'longitude': -96.62167287740289, 'sex': 'Female', 'religion': 'Roman Catholic', 'extraversion': -0.42674749303421833, 'date_of_birth': '1922-05-17', 'agreeableness': 1.17330906349171, 'id_str': '9eg-TMV', 'conscientiousness': 0.3983471408157754, 'internet': True, 'country_name': 'United States', 'openness': 0.6085620592479078, 'id': 2904079037}, {'neuroticism': -0.4311734826718784, 'language': 'English', 'latitude': 35.8226366564752, 'country_tld': 'us', 'age': 36, 'income': 50230, 'longitude': -90.55395034934112, 'sex': 'Male', 'religion': 'Protestant', 'extraversion': 0.6767314982441908, 'date_of_birth': '1982-07-07', 'agreeableness': 0.29596434016006135, 'id_str': '9k7-nQd', 'conscientiousness': -1.8130813501611829, 'internet': True, 'country_name': 'United States', 'openness': -1.5219439535272987, 'id': 2804371349}, {'neuroticism': 0.6642333020317484, 'language': 'English', 'latitude': 39.29055099458212, 'country_tld': 'us', 'age': 33, 'income': 75452, 'longitude': -95.52822526411887, 'sex': 'Female', 'religion': 'Protestant', 'extraversion': -0.16619015434495302, 'date_of_birth': '1985-03-17', 'agreeableness': 0.8739941857043159, 'id_str': '9p8-xjY', 'conscientiousness': -0.8501508133358947, 'internet': False, 'country_name': 'United States', 'openness': 0.6400324499590986, 'id': 2804609773}, {'neuroticism': 0.9332689960105816, 'language': 'English', 'latitude': 36.87496239225929, 'country_tld': 'us', 'age': 27, 'income': 71224, 'longitude': -95.34938784684196, 'sex': 'Male', 'religion': 'Protestant', 'extraversion': -0.3666829281676549, 'date_of_birth': '1991-01-22', 'agreeableness': -0.6509590555274236, 'id_str': 'Nx6-FNl', 'conscientiousness': -1.1392541297318504, 'internet': True, 'country_name': 'United States', 'openness': 1.777415001593382, 'id': 2812974335}, {'neuroticism': -0.0010478717567319468, 'language': 'English', 'latitude': 39.85926293166406, 'country_tld': 'us', 'age': 95, 'income': 52165, 'longitude': -96.1126639460376, 'sex': 'Female', 'religion': 'Jewish', 'extraversion': -0.40149847256403126, 'date_of_birth': '1923-03-07', 'agreeableness': -0.09780826139436301, 'id_str': '9j2-ptf', 'conscientiousness': -1.1804826881031734, 'internet': True, 'country_name': 'United States', 'openness': 0.3089521647331241, 'id': 2718394229}]\n",
      "[{'neuroticism': -0.049939687713569575, 'language': 'English', 'latitude': 30.41837600708193, 'country_tld': 'us', 'age': 4, 'income': 97889, 'longitude': -103.25043940338355, 'sex': 'Female', 'religion': 'Roman Catholic', 'extraversion': -2.9185810636820464, 'date_of_birth': '2014-09-29', 'agreeableness': 1.0572634782011823, 'id_str': 'yyS-viQ', 'conscientiousness': 0.7211414123702579, 'internet': True, 'country_name': 'United States', 'openness': 1.5710503788603214, 'id': 2667859928}, {'neuroticism': 1.0662367647463948, 'language': 'Spanish', 'latitude': 37.81486476875599, 'country_tld': 'us', 'age': 21, 'income': 25836, 'longitude': -93.6796322018171, 'sex': 'Male', 'religion': 'Protestant', 'extraversion': -0.4801686205667329, 'date_of_birth': '1997-10-29', 'agreeableness': -0.11231999334427717, 'id_str': 'bfx-pwv', 'conscientiousness': -1.0666173190760664, 'internet': False, 'country_name': 'United States', 'openness': -0.7351003046453173, 'id': 2614102521}, {'neuroticism': 0.5021317035449832, 'language': 'English', 'latitude': 44.74097675958727, 'country_tld': 'us', 'age': 17, 'income': 88240, 'longitude': -91.45851060938213, 'sex': 'Female', 'religion': 'Protestant', 'extraversion': 0.10241487929501969, 'date_of_birth': '2001-06-17', 'agreeableness': 1.2225213281684635, 'id_str': 'j5m-Sf', 'conscientiousness': -0.7011094705273767, 'internet': True, 'country_name': 'United States', 'openness': 0.3814147843665783, 'id': 2861567696}, {'neuroticism': -0.034503525300329296, 'language': 'English', 'latitude': 35.13890162855791, 'country_tld': 'us', 'age': 31, 'income': 34393, 'longitude': -88.89708081201047, 'sex': 'Female', 'religion': 'Protestant', 'extraversion': 0.8770915490991904, 'date_of_birth': '1987-09-07', 'agreeableness': -1.0168330168171638, 'id_str': '9Tv-CnD', 'conscientiousness': -0.5079462139374907, 'internet': False, 'country_name': 'United States', 'openness': -0.09523420998506883, 'id': 2595433421}, {'neuroticism': 0.5585966270641695, 'language': 'English', 'latitude': 33.474706612167914, 'country_tld': 'us', 'age': 6, 'income': 74031, 'longitude': -96.354245971375, 'sex': 'Male', 'religion': 'Protestant', 'extraversion': -0.325063785081025, 'date_of_birth': '2012-02-05', 'agreeableness': 0.21739855974082237, 'id_str': 'YPx-chJ', 'conscientiousness': -0.8424604463345231, 'internet': True, 'country_name': 'United States', 'openness': 1.753264567792138, 'id': 2735100286}]\n",
      "[{'neuroticism': 0.46722059591728043, 'language': 'English', 'latitude': 37.918224938610244, 'country_tld': 'us', 'age': 8, 'income': 38095, 'longitude': -104.86531217718309, 'sex': 'Male', 'religion': 'Protestant', 'extraversion': -0.4829919593599839, 'date_of_birth': '2010-03-31', 'agreeableness': 0.3863460335979205, 'id_str': 'Lwa-0Cp', 'conscientiousness': 0.03950492195361863, 'internet': False, 'country_name': 'United States', 'openness': 1.92708058751201, 'id': 2878156394}, {'neuroticism': -0.3326506326344253, 'language': 'English', 'latitude': 38.471199203801106, 'country_tld': 'us', 'age': 85, 'income': 98568, 'longitude': -98.13083424132076, 'sex': 'Female', 'religion': 'Protestant', 'extraversion': 0.16145363355587297, 'date_of_birth': '1933-07-21', 'agreeableness': 0.8961607189031975, 'id_str': 'Ei1-k8', 'conscientiousness': 0.20910878267886313, 'internet': True, 'country_name': 'United States', 'openness': -0.1010947654521815, 'id': 2883401056}, {'neuroticism': -0.4517754631381437, 'language': 'English', 'latitude': 36.366658704643, 'country_tld': 'us', 'age': 1, 'income': 62362, 'longitude': -102.96719460024876, 'sex': 'Male', 'religion': 'Protestant', 'extraversion': -0.4472208986543085, 'date_of_birth': '2017-05-03', 'agreeableness': 0.4275766465876895, 'id_str': 'b0u-n09', 'conscientiousness': -0.9362575423529736, 'internet': True, 'country_name': 'United States', 'openness': -2.3763661553871334, 'id': 2714577417}, {'neuroticism': -0.42480452232480614, 'language': 'English', 'latitude': 38.55783186672214, 'country_tld': 'us', 'age': 18, 'income': 78294, 'longitude': -98.38350117261042, 'sex': 'Male', 'religion': 'Protestant', 'extraversion': -0.6386563325359697, 'date_of_birth': '2000-11-28', 'agreeableness': -0.7396872134346902, 'id_str': 'DUe-Nwl', 'conscientiousness': -0.05761638147882279, 'internet': False, 'country_name': 'United States', 'openness': 0.2628431479361513, 'id': 2732208546}, {'neuroticism': -0.647131309847772, 'language': 'English', 'latitude': 38.17337159153556, 'country_tld': 'us', 'age': 56, 'income': 52955, 'longitude': -100.8789603352777, 'sex': 'Female', 'religion': 'Protestant', 'extraversion': -1.387751912883154, 'date_of_birth': '1962-03-03', 'agreeableness': 0.35762283872687417, 'id_str': 'D2c-61I', 'conscientiousness': -0.35260561392313267, 'internet': True, 'country_name': 'United States', 'openness': -1.1613417065981384, 'id': 2774866844}, {'neuroticism': -0.22552609941184631, 'language': 'English', 'latitude': 40.362235575636454, 'country_tld': 'us', 'age': 96, 'income': 64387, 'longitude': -96.62167287740289, 'sex': 'Female', 'religion': 'Roman Catholic', 'extraversion': -0.42674749303421833, 'date_of_birth': '1922-05-17', 'agreeableness': 1.17330906349171, 'id_str': '9eg-TMV', 'conscientiousness': 0.3983471408157754, 'internet': True, 'country_name': 'United States', 'openness': 0.6085620592479078, 'id': 2904079037}, {'neuroticism': -0.4311734826718784, 'language': 'English', 'latitude': 35.8226366564752, 'country_tld': 'us', 'age': 36, 'income': 50230, 'longitude': -90.55395034934112, 'sex': 'Male', 'religion': 'Protestant', 'extraversion': 0.6767314982441908, 'date_of_birth': '1982-07-07', 'agreeableness': 0.29596434016006135, 'id_str': '9k7-nQd', 'conscientiousness': -1.8130813501611829, 'internet': True, 'country_name': 'United States', 'openness': -1.5219439535272987, 'id': 2804371349}, {'neuroticism': 0.6642333020317484, 'language': 'English', 'latitude': 39.29055099458212, 'country_tld': 'us', 'age': 33, 'income': 75452, 'longitude': -95.52822526411887, 'sex': 'Female', 'religion': 'Protestant', 'extraversion': -0.16619015434495302, 'date_of_birth': '1985-03-17', 'agreeableness': 0.8739941857043159, 'id_str': '9p8-xjY', 'conscientiousness': -0.8501508133358947, 'internet': False, 'country_name': 'United States', 'openness': 0.6400324499590986, 'id': 2804609773}, {'neuroticism': 0.9332689960105816, 'language': 'English', 'latitude': 36.87496239225929, 'country_tld': 'us', 'age': 27, 'income': 71224, 'longitude': -95.34938784684196, 'sex': 'Male', 'religion': 'Protestant', 'extraversion': -0.3666829281676549, 'date_of_birth': '1991-01-22', 'agreeableness': -0.6509590555274236, 'id_str': 'Nx6-FNl', 'conscientiousness': -1.1392541297318504, 'internet': True, 'country_name': 'United States', 'openness': 1.777415001593382, 'id': 2812974335}, {'neuroticism': -0.0010478717567319468, 'language': 'English', 'latitude': 39.85926293166406, 'country_tld': 'us', 'age': 95, 'income': 52165, 'longitude': -96.1126639460376, 'sex': 'Female', 'religion': 'Jewish', 'extraversion': -0.40149847256403126, 'date_of_birth': '1923-03-07', 'agreeableness': -0.09780826139436301, 'id_str': '9j2-ptf', 'conscientiousness': -1.1804826881031734, 'internet': True, 'country_name': 'United States', 'openness': 0.3089521647331241, 'id': 2718394229}, {'neuroticism': -0.049939687713569575, 'language': 'English', 'latitude': 30.41837600708193, 'country_tld': 'us', 'age': 4, 'income': 97889, 'longitude': -103.25043940338355, 'sex': 'Female', 'religion': 'Roman Catholic', 'extraversion': -2.9185810636820464, 'date_of_birth': '2014-09-29', 'agreeableness': 1.0572634782011823, 'id_str': 'yyS-viQ', 'conscientiousness': 0.7211414123702579, 'internet': True, 'country_name': 'United States', 'openness': 1.5710503788603214, 'id': 2667859928}, {'neuroticism': 1.0662367647463948, 'language': 'Spanish', 'latitude': 37.81486476875599, 'country_tld': 'us', 'age': 21, 'income': 25836, 'longitude': -93.6796322018171, 'sex': 'Male', 'religion': 'Protestant', 'extraversion': -0.4801686205667329, 'date_of_birth': '1997-10-29', 'agreeableness': -0.11231999334427717, 'id_str': 'bfx-pwv', 'conscientiousness': -1.0666173190760664, 'internet': False, 'country_name': 'United States', 'openness': -0.7351003046453173, 'id': 2614102521}, {'neuroticism': 0.5021317035449832, 'language': 'English', 'latitude': 44.74097675958727, 'country_tld': 'us', 'age': 17, 'income': 88240, 'longitude': -91.45851060938213, 'sex': 'Female', 'religion': 'Protestant', 'extraversion': 0.10241487929501969, 'date_of_birth': '2001-06-17', 'agreeableness': 1.2225213281684635, 'id_str': 'j5m-Sf', 'conscientiousness': -0.7011094705273767, 'internet': True, 'country_name': 'United States', 'openness': 0.3814147843665783, 'id': 2861567696}, {'neuroticism': -0.034503525300329296, 'language': 'English', 'latitude': 35.13890162855791, 'country_tld': 'us', 'age': 31, 'income': 34393, 'longitude': -88.89708081201047, 'sex': 'Female', 'religion': 'Protestant', 'extraversion': 0.8770915490991904, 'date_of_birth': '1987-09-07', 'agreeableness': -1.0168330168171638, 'id_str': '9Tv-CnD', 'conscientiousness': -0.5079462139374907, 'internet': False, 'country_name': 'United States', 'openness': -0.09523420998506883, 'id': 2595433421}, {'neuroticism': 0.5585966270641695, 'language': 'English', 'latitude': 33.474706612167914, 'country_tld': 'us', 'age': 6, 'income': 74031, 'longitude': -96.354245971375, 'sex': 'Male', 'religion': 'Protestant', 'extraversion': -0.325063785081025, 'date_of_birth': '2012-02-05', 'agreeableness': 0.21739855974082237, 'id_str': 'YPx-chJ', 'conscientiousness': -0.8424604463345231, 'internet': True, 'country_name': 'United States', 'openness': 1.753264567792138, 'id': 2735100286}]\n"
     ]
    }
   ],
   "source": [
    "randpop= []\n",
    "for sample in range(3):\n",
    "    res = ppl.randsample()[-1]\n",
    "    randpop = randpop+res\n",
    "    time.sleep(5)\n"
   ]
  },
  {
   "cell_type": "code",
   "execution_count": 61,
   "metadata": {},
   "outputs": [],
   "source": [
    "def calc_stats(json):\n",
    "    df = pd.DataFrame(json)\n",
    "    \n",
    "    reli_mode = df[\"religion\"].mode()\n",
    "    agree_mean = df[\"agreeableness\"].mean()\n",
    "    neuro_range = df[\"neuroticism\"].max()- df[\"neuroticism\"].min()\n",
    "    \n",
    "    return [reli_mode, agree_mean, neuro_range]"
   ]
  },
  {
   "cell_type": "code",
   "execution_count": 3,
   "metadata": {},
   "outputs": [
    {
     "name": "stdout",
     "output_type": "stream",
     "text": [
      "[0    Protestant\n",
      "dtype: object, 0.28603664351762126, 1.7133680745941668]\n"
     ]
    }
   ],
   "source": [
    "print(ppl.calc_stats(randpop))"
   ]
  },
  {
   "cell_type": "code",
   "execution_count": 4,
   "metadata": {},
   "outputs": [
    {
     "name": "stdout",
     "output_type": "stream",
     "text": [
      "[{'age': 8,\n",
      "  'agreeableness': 0.3863460335979205,\n",
      "  'conscientiousness': 0.03950492195361863,\n",
      "  'country_name': 'United States',\n",
      "  'country_tld': 'us',\n",
      "  'date_of_birth': '2010-03-31',\n",
      "  'extraversion': -0.4829919593599839,\n",
      "  'id': 2878156394,\n",
      "  'id_str': 'Lwa-0Cp',\n",
      "  'income': 38095,\n",
      "  'internet': False,\n",
      "  'language': 'English',\n",
      "  'latitude': 37.918224938610244,\n",
      "  'longitude': -104.86531217718309,\n",
      "  'neuroticism': 0.46722059591728043,\n",
      "  'openness': 1.92708058751201,\n",
      "  'religion': 'Protestant',\n",
      "  'sex': 'Male'},\n",
      " {'age': 85,\n",
      "  'agreeableness': 0.8961607189031975,\n",
      "  'conscientiousness': 0.20910878267886313,\n",
      "  'country_name': 'United States',\n",
      "  'country_tld': 'us',\n",
      "  'date_of_birth': '1933-07-21',\n",
      "  'extraversion': 0.16145363355587297,\n",
      "  'id': 2883401056,\n",
      "  'id_str': 'Ei1-k8',\n",
      "  'income': 98568,\n",
      "  'internet': True,\n",
      "  'language': 'English',\n",
      "  'latitude': 38.471199203801106,\n",
      "  'longitude': -98.13083424132076,\n",
      "  'neuroticism': -0.3326506326344253,\n",
      "  'openness': -0.1010947654521815,\n",
      "  'religion': 'Protestant',\n",
      "  'sex': 'Female'},\n",
      " {'age': 1,\n",
      "  'agreeableness': 0.4275766465876895,\n",
      "  'conscientiousness': -0.9362575423529736,\n",
      "  'country_name': 'United States',\n",
      "  'country_tld': 'us',\n",
      "  'date_of_birth': '2017-05-03',\n",
      "  'extraversion': -0.4472208986543085,\n",
      "  'id': 2714577417,\n",
      "  'id_str': 'b0u-n09',\n",
      "  'income': 62362,\n",
      "  'internet': True,\n",
      "  'language': 'English',\n",
      "  'latitude': 36.366658704643,\n",
      "  'longitude': -102.96719460024876,\n",
      "  'neuroticism': -0.4517754631381437,\n",
      "  'openness': -2.3763661553871334,\n",
      "  'religion': 'Protestant',\n",
      "  'sex': 'Male'},\n",
      " {'age': 18,\n",
      "  'agreeableness': -0.7396872134346902,\n",
      "  'conscientiousness': -0.05761638147882279,\n",
      "  'country_name': 'United States',\n",
      "  'country_tld': 'us',\n",
      "  'date_of_birth': '2000-11-28',\n",
      "  'extraversion': -0.6386563325359697,\n",
      "  'id': 2732208546,\n",
      "  'id_str': 'DUe-Nwl',\n",
      "  'income': 78294,\n",
      "  'internet': False,\n",
      "  'language': 'English',\n",
      "  'latitude': 38.55783186672214,\n",
      "  'longitude': -98.38350117261042,\n",
      "  'neuroticism': -0.42480452232480614,\n",
      "  'openness': 0.2628431479361513,\n",
      "  'religion': 'Protestant',\n",
      "  'sex': 'Male'},\n",
      " {'age': 56,\n",
      "  'agreeableness': 0.35762283872687417,\n",
      "  'conscientiousness': -0.35260561392313267,\n",
      "  'country_name': 'United States',\n",
      "  'country_tld': 'us',\n",
      "  'date_of_birth': '1962-03-03',\n",
      "  'extraversion': -1.387751912883154,\n",
      "  'id': 2774866844,\n",
      "  'id_str': 'D2c-61I',\n",
      "  'income': 52955,\n",
      "  'internet': True,\n",
      "  'language': 'English',\n",
      "  'latitude': 38.17337159153556,\n",
      "  'longitude': -100.8789603352777,\n",
      "  'neuroticism': -0.647131309847772,\n",
      "  'openness': -1.1613417065981384,\n",
      "  'religion': 'Protestant',\n",
      "  'sex': 'Female'},\n",
      " {'age': 96,\n",
      "  'agreeableness': 1.17330906349171,\n",
      "  'conscientiousness': 0.3983471408157754,\n",
      "  'country_name': 'United States',\n",
      "  'country_tld': 'us',\n",
      "  'date_of_birth': '1922-05-17',\n",
      "  'extraversion': -0.42674749303421833,\n",
      "  'id': 2904079037,\n",
      "  'id_str': '9eg-TMV',\n",
      "  'income': 64387,\n",
      "  'internet': True,\n",
      "  'language': 'English',\n",
      "  'latitude': 40.362235575636454,\n",
      "  'longitude': -96.62167287740289,\n",
      "  'neuroticism': -0.22552609941184631,\n",
      "  'openness': 0.6085620592479078,\n",
      "  'religion': 'Roman Catholic',\n",
      "  'sex': 'Female'},\n",
      " {'age': 36,\n",
      "  'agreeableness': 0.29596434016006135,\n",
      "  'conscientiousness': -1.8130813501611829,\n",
      "  'country_name': 'United States',\n",
      "  'country_tld': 'us',\n",
      "  'date_of_birth': '1982-07-07',\n",
      "  'extraversion': 0.6767314982441908,\n",
      "  'id': 2804371349,\n",
      "  'id_str': '9k7-nQd',\n",
      "  'income': 50230,\n",
      "  'internet': True,\n",
      "  'language': 'English',\n",
      "  'latitude': 35.8226366564752,\n",
      "  'longitude': -90.55395034934112,\n",
      "  'neuroticism': -0.4311734826718784,\n",
      "  'openness': -1.5219439535272987,\n",
      "  'religion': 'Protestant',\n",
      "  'sex': 'Male'},\n",
      " {'age': 33,\n",
      "  'agreeableness': 0.8739941857043159,\n",
      "  'conscientiousness': -0.8501508133358947,\n",
      "  'country_name': 'United States',\n",
      "  'country_tld': 'us',\n",
      "  'date_of_birth': '1985-03-17',\n",
      "  'extraversion': -0.16619015434495302,\n",
      "  'id': 2804609773,\n",
      "  'id_str': '9p8-xjY',\n",
      "  'income': 75452,\n",
      "  'internet': False,\n",
      "  'language': 'English',\n",
      "  'latitude': 39.29055099458212,\n",
      "  'longitude': -95.52822526411887,\n",
      "  'neuroticism': 0.6642333020317484,\n",
      "  'openness': 0.6400324499590986,\n",
      "  'religion': 'Protestant',\n",
      "  'sex': 'Female'},\n",
      " {'age': 27,\n",
      "  'agreeableness': -0.6509590555274236,\n",
      "  'conscientiousness': -1.1392541297318504,\n",
      "  'country_name': 'United States',\n",
      "  'country_tld': 'us',\n",
      "  'date_of_birth': '1991-01-22',\n",
      "  'extraversion': -0.3666829281676549,\n",
      "  'id': 2812974335,\n",
      "  'id_str': 'Nx6-FNl',\n",
      "  'income': 71224,\n",
      "  'internet': True,\n",
      "  'language': 'English',\n",
      "  'latitude': 36.87496239225929,\n",
      "  'longitude': -95.34938784684196,\n",
      "  'neuroticism': 0.9332689960105816,\n",
      "  'openness': 1.777415001593382,\n",
      "  'religion': 'Protestant',\n",
      "  'sex': 'Male'},\n",
      " {'age': 95,\n",
      "  'agreeableness': -0.09780826139436301,\n",
      "  'conscientiousness': -1.1804826881031734,\n",
      "  'country_name': 'United States',\n",
      "  'country_tld': 'us',\n",
      "  'date_of_birth': '1923-03-07',\n",
      "  'extraversion': -0.40149847256403126,\n",
      "  'id': 2718394229,\n",
      "  'id_str': '9j2-ptf',\n",
      "  'income': 52165,\n",
      "  'internet': True,\n",
      "  'language': 'English',\n",
      "  'latitude': 39.85926293166406,\n",
      "  'longitude': -96.1126639460376,\n",
      "  'neuroticism': -0.0010478717567319468,\n",
      "  'openness': 0.3089521647331241,\n",
      "  'religion': 'Jewish',\n",
      "  'sex': 'Female'},\n",
      " {'age': 4,\n",
      "  'agreeableness': 1.0572634782011823,\n",
      "  'conscientiousness': 0.7211414123702579,\n",
      "  'country_name': 'United States',\n",
      "  'country_tld': 'us',\n",
      "  'date_of_birth': '2014-09-29',\n",
      "  'extraversion': -2.9185810636820464,\n",
      "  'id': 2667859928,\n",
      "  'id_str': 'yyS-viQ',\n",
      "  'income': 97889,\n",
      "  'internet': True,\n",
      "  'language': 'English',\n",
      "  'latitude': 30.41837600708193,\n",
      "  'longitude': -103.25043940338355,\n",
      "  'neuroticism': -0.049939687713569575,\n",
      "  'openness': 1.5710503788603214,\n",
      "  'religion': 'Roman Catholic',\n",
      "  'sex': 'Female'},\n",
      " {'age': 21,\n",
      "  'agreeableness': -0.11231999334427717,\n",
      "  'conscientiousness': -1.0666173190760664,\n",
      "  'country_name': 'United States',\n",
      "  'country_tld': 'us',\n",
      "  'date_of_birth': '1997-10-29',\n",
      "  'extraversion': -0.4801686205667329,\n",
      "  'id': 2614102521,\n",
      "  'id_str': 'bfx-pwv',\n",
      "  'income': 25836,\n",
      "  'internet': False,\n",
      "  'language': 'Spanish',\n",
      "  'latitude': 37.81486476875599,\n",
      "  'longitude': -93.6796322018171,\n",
      "  'neuroticism': 1.0662367647463948,\n",
      "  'openness': -0.7351003046453173,\n",
      "  'religion': 'Protestant',\n",
      "  'sex': 'Male'},\n",
      " {'age': 17,\n",
      "  'agreeableness': 1.2225213281684635,\n",
      "  'conscientiousness': -0.7011094705273767,\n",
      "  'country_name': 'United States',\n",
      "  'country_tld': 'us',\n",
      "  'date_of_birth': '2001-06-17',\n",
      "  'extraversion': 0.10241487929501969,\n",
      "  'id': 2861567696,\n",
      "  'id_str': 'j5m-Sf',\n",
      "  'income': 88240,\n",
      "  'internet': True,\n",
      "  'language': 'English',\n",
      "  'latitude': 44.74097675958727,\n",
      "  'longitude': -91.45851060938213,\n",
      "  'neuroticism': 0.5021317035449832,\n",
      "  'openness': 0.3814147843665783,\n",
      "  'religion': 'Protestant',\n",
      "  'sex': 'Female'},\n",
      " {'age': 31,\n",
      "  'agreeableness': -1.0168330168171638,\n",
      "  'conscientiousness': -0.5079462139374907,\n",
      "  'country_name': 'United States',\n",
      "  'country_tld': 'us',\n",
      "  'date_of_birth': '1987-09-07',\n",
      "  'extraversion': 0.8770915490991904,\n",
      "  'id': 2595433421,\n",
      "  'id_str': '9Tv-CnD',\n",
      "  'income': 34393,\n",
      "  'internet': False,\n",
      "  'language': 'English',\n",
      "  'latitude': 35.13890162855791,\n",
      "  'longitude': -88.89708081201047,\n",
      "  'neuroticism': -0.034503525300329296,\n",
      "  'openness': -0.09523420998506883,\n",
      "  'religion': 'Protestant',\n",
      "  'sex': 'Female'},\n",
      " {'age': 6,\n",
      "  'agreeableness': 0.21739855974082237,\n",
      "  'conscientiousness': -0.8424604463345231,\n",
      "  'country_name': 'United States',\n",
      "  'country_tld': 'us',\n",
      "  'date_of_birth': '2012-02-05',\n",
      "  'extraversion': -0.325063785081025,\n",
      "  'id': 2735100286,\n",
      "  'id_str': 'YPx-chJ',\n",
      "  'income': 74031,\n",
      "  'internet': True,\n",
      "  'language': 'English',\n",
      "  'latitude': 33.474706612167914,\n",
      "  'longitude': -96.354245971375,\n",
      "  'neuroticism': 0.5585966270641695,\n",
      "  'openness': 1.753264567792138,\n",
      "  'religion': 'Protestant',\n",
      "  'sex': 'Male'}]\n"
     ]
    }
   ],
   "source": [
    "pprint(randpop)"
   ]
  },
  {
   "cell_type": "code",
   "execution_count": null,
   "metadata": {},
   "outputs": [],
   "source": []
  }
 ],
 "metadata": {
  "kernelspec": {
   "display_name": "Python 3",
   "language": "python",
   "name": "python3"
  },
  "language_info": {
   "codemirror_mode": {
    "name": "ipython",
    "version": 3
   },
   "file_extension": ".py",
   "mimetype": "text/x-python",
   "name": "python",
   "nbconvert_exporter": "python",
   "pygments_lexer": "ipython3",
   "version": "3.6.3"
  }
 },
 "nbformat": 4,
 "nbformat_minor": 2
}
